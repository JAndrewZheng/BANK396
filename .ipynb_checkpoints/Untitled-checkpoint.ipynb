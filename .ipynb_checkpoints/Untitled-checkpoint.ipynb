{
 "cells": [
  {
   "cell_type": "code",
   "execution_count": 1,
   "id": "f88291f2-d800-4ba6-b679-fff367395c47",
   "metadata": {},
   "outputs": [
    {
     "name": "stderr",
     "output_type": "stream",
     "text": [
      "/Users/andrewzheng/miniconda3/envs/BANK396/lib/python3.11/site-packages/pydub/utils.py:170: RuntimeWarning: Couldn't find ffmpeg or avconv - defaulting to ffmpeg, but may not work\n",
      "  warn(\"Couldn't find ffmpeg or avconv - defaulting to ffmpeg, but may not work\", RuntimeWarning)\n"
     ]
    }
   ],
   "source": [
    "import argparse\n",
    "import make_vid\n",
    "import upload\n",
    "import reddit"
   ]
  },
  {
   "cell_type": "code",
   "execution_count": 7,
   "id": "065019dd-3279-4d58-80ec-22768bb74da4",
   "metadata": {},
   "outputs": [
    {
     "name": "stdout",
     "output_type": "stream",
     "text": [
      "/Users/andrewzheng/miniconda3/envs/BANK396/lib/python3.11/site-packages/pydub/utils.py:170: RuntimeWarning: Couldn't find ffmpeg or avconv - defaulting to ffmpeg, but may not work\n",
      "  warn(\"Couldn't find ffmpeg or avconv - defaulting to ffmpeg, but may not work\", RuntimeWarning)\n",
      "Traceback (most recent call last):\n",
      "  File \"/Users/andrewzheng/Documents/Fall 2023/BANK396/make_vid.py\", line 180, in <module>\n",
      "    text = get_text(\"demofile.txt\")\n",
      "           ^^^^^^^^^^^^^^^^^^^^^^^^\n",
      "  File \"/Users/andrewzheng/Documents/Fall 2023/BANK396/make_vid.py\", line 21, in get_text\n",
      "    with open(file, 'r') as f:\n",
      "         ^^^^^^^^^^^^^^^\n",
      "FileNotFoundError: [Errno 2] No such file or directory: 'demofile.txt'\n"
     ]
    }
   ],
   "source": [
    "!python make_vid.py"
   ]
  },
  {
   "cell_type": "code",
   "execution_count": null,
   "id": "57356f2e-f080-4c68-87fa-57ae01c56734",
   "metadata": {},
   "outputs": [],
   "source": []
  }
 ],
 "metadata": {
  "kernelspec": {
   "display_name": "Python 3 (ipykernel)",
   "language": "python",
   "name": "python3"
  },
  "language_info": {
   "codemirror_mode": {
    "name": "ipython",
    "version": 3
   },
   "file_extension": ".py",
   "mimetype": "text/x-python",
   "name": "python",
   "nbconvert_exporter": "python",
   "pygments_lexer": "ipython3",
   "version": "3.11.5"
  }
 },
 "nbformat": 4,
 "nbformat_minor": 5
}
